{
  "nbformat": 4,
  "nbformat_minor": 0,
  "metadata": {
    "colab": {
      "name": "Mela_Classifi.ipynb",
      "provenance": [],
      "private_outputs": true,
      "collapsed_sections": [],
      "include_colab_link": true
    },
    "kernelspec": {
      "name": "python3",
      "display_name": "Python 3"
    },
    "accelerator": "GPU"
  },
  "cells": [
    {
      "cell_type": "markdown",
      "metadata": {
        "id": "view-in-github",
        "colab_type": "text"
      },
      "source": [
        "<a href=\"https://colab.research.google.com/github/dulshanb/Programming.-/blob/master/Mela_Classifi.ipynb\" target=\"_parent\"><img src=\"https://colab.research.google.com/assets/colab-badge.svg\" alt=\"Open In Colab\"/></a>"
      ]
    },
    {
      "cell_type": "code",
      "metadata": {
        "id": "wlo35vcvKqEc",
        "colab_type": "code",
        "colab": {}
      },
      "source": [
        "\n",
        "from tensorflow import keras\n",
        "import tensorflow as tf\n",
        "import numpy as np\n",
        "\n"
      ],
      "execution_count": 0,
      "outputs": []
    },
    {
      "cell_type": "code",
      "metadata": {
        "id": "Fd8nXVRIKvXu",
        "colab_type": "code",
        "colab": {}
      },
      "source": [
        "\n",
        "import requests, zipfile, io\n",
        "\n",
        "r = requests.get( 'https://github.com/dulshanb/Skin-detection-data/blob/master/mel_detect_processed.zip?raw=true' ) \n",
        "z = zipfile.ZipFile(io.BytesIO(r.content))\n",
        "z.extractall()\n"
      ],
      "execution_count": 0,
      "outputs": []
    },
    {
      "cell_type": "code",
      "metadata": {
        "id": "yb-LtlscLefH",
        "colab_type": "code",
        "colab": {}
      },
      "source": [
        "DIMEN = 32\n",
        "\n",
        "X1 = np.load( 'processed_data/x1.npy')\n",
        "X2 = np.load( 'processed_data/x2.npy')\n",
        "Y = np.load( 'processed_data/y.npy')\n",
        "\n",
        "X1 = X1.reshape( ( X1.shape[0]  , DIMEN**2 * 3  ) ).astype( np.float32 )\n",
        "X2 = X2.reshape( ( X2.shape[0]  , DIMEN**2 * 3  ) ).astype( np.float32 )\n",
        "\n",
        "train_X1 = X1[ : 4500 ] \n",
        "train_X2 = X2[ : 4500 ] \n",
        "train_Y = Y[ : 4500 ] \n",
        "\n",
        "test_X1 = X1[ 4500 : ]\n",
        "test_X2 = X2[ 4500 : ] \n",
        "test_Y = Y[ 4500 : ]\n",
        " \n",
        "print(  train_X1.shape )\n",
        "print(  train_X2.shape )\n",
        "print(  train_Y.shape )\n",
        "\n",
        "print(test_X1.shape )\n",
        "print(test_X2.shape )\n",
        "print(test_Y.shape) \n",
        "\n",
        "\n",
        "import pandas as pd \n",
        "pd.DataFrame(Y).iloc[:,0].value_counts()"
      ],
      "execution_count": 0,
      "outputs": []
    },
    {
      "cell_type": "code",
      "metadata": {
        "id": "UaKnY6juLobf",
        "colab_type": "code",
        "colab": {}
      },
      "source": [
        "\n",
        "import tensorflow.keras.backend as K\n",
        "\n",
        "input_shape = ( (DIMEN**2) * 3 , )\n",
        "convolution_shape = ( DIMEN , DIMEN , 3 )\n",
        "\n",
        "kernel_size_1 = ( 8 , 8 )\n",
        "kernel_size_2 = ( 6 , 6 )\n",
        "kernel_size_3 = ( 4 , 4 )\n",
        "\n",
        "pool_size_1 = ( 6 , 6 )\n",
        "pool_size_2 = ( 4 , 4 )\n",
        "\n",
        "strides = 1\n",
        "\n",
        "seq_conv_model = [\n",
        "\n",
        "\ttf.keras.layers.Reshape( input_shape=input_shape , target_shape=convolution_shape),\n",
        "\t\n",
        "\ttf.keras.layers.Conv2D( 32, kernel_size=kernel_size_1 , strides=strides ,activation='relu' ),\n",
        "\ttf.keras.layers.MaxPooling2D(pool_size=pool_size_1, strides=strides ),\n",
        "\ttf.keras.layers.Dropout(0.3),\n",
        "\t\n",
        "\ttf.keras.layers.Conv2D( 64, kernel_size=kernel_size_2 , strides=strides ,activation='relu'),\n",
        "\ttf.keras.layers.MaxPooling2D(pool_size=pool_size_2 , strides=strides),\n",
        "   tf.keras.layers.Dropout(0.3), \n",
        "    tf.keras.layers.Conv2D( 128, kernel_size=kernel_size_3 , strides=strides ,activation='relu'),\n",
        "    \n",
        "\ttf.keras.layers.Flatten(),\n",
        "\ttf.keras.layers.Dropout(0.3),\n",
        "\ttf.keras.layers.Dense( 3076 , activation=tf.keras.activations.sigmoid )\n",
        "\n",
        "]\n",
        "\n",
        "seq_model = tf.keras.Sequential( seq_conv_model )\n",
        "\n",
        "input_x1 = tf.keras.layers.Input( shape=input_shape )\n",
        "input_x2 = tf.keras.layers.Input( shape=input_shape )\n",
        "\n",
        "output_x1 = seq_model( input_x1 )\n",
        "output_x2 = seq_model( input_x2 )\n",
        "\n",
        "distance_euclid = tf.keras.layers.Lambda( lambda tensors : K.abs( tensors[0] - tensors[1] ))( [output_x1 , output_x2] )\n",
        "outputs = tf.keras.layers.Dense( 1 , activation=tf.keras.activations.sigmoid) ( distance_euclid )\n",
        "model = tf.keras.models.Model( [ input_x1 , input_x2 ] , outputs )\n",
        "\n",
        "model.compile( loss=tf.keras.losses.binary_crossentropy , optimizer=tf.keras.optimizers.Adam(lr=0.0001) , metrics=['accuracy'])\n",
        "\n",
        "model.summary()\n"
      ],
      "execution_count": 0,
      "outputs": []
    },
    {
      "cell_type": "code",
      "metadata": {
        "id": "q6TYAPg_H-2Q",
        "colab_type": "code",
        "colab": {}
      },
      "source": [
        "#Class Balance\n",
        "import pandas as pd\n",
        "pd.value_counts(train_Y.flatten())\n"
      ],
      "execution_count": 0,
      "outputs": []
    },
    {
      "cell_type": "code",
      "metadata": {
        "id": "5rEeKeOXNBDK",
        "colab_type": "code",
        "colab": {}
      },
      "source": [
        "\n",
        "model.fit( [ train_X1 , train_X2 ] , train_Y , epochs=15 , batch_size=24,validation_data=([ test_X1 , test_X2 ] , test_Y),shuffle=True ) \n"
      ],
      "execution_count": 0,
      "outputs": []
    },
    {
      "cell_type": "code",
      "metadata": {
        "id": "B7pwaPTVNKDW",
        "colab_type": "code",
        "colab": {}
      },
      "source": [
        "#Saving model\n",
        "model.save( 'model_melanoma.h5' )"
      ],
      "execution_count": 0,
      "outputs": []
    },
    {
      "cell_type": "code",
      "metadata": {
        "id": "KINck89AcNVy",
        "colab_type": "code",
        "colab": {}
      },
      "source": [
        "from tensorflow.keras.models import load_model \n",
        "model=load_model('model_melanoma.h5')\n",
        "metrics = model.evaluate( [ test_X1 , test_X2 ] , test_Y ) \n",
        "print( 'Loss of {} and Accuracy is {} %'.format( metrics[0] , metrics[1] * 100 ) ) \n"
      ],
      "execution_count": 0,
      "outputs": []
    },
    {
      "cell_type": "code",
      "metadata": {
        "id": "GdeO2Rn3GTTr",
        "colab_type": "code",
        "colab": {}
      },
      "source": [
        "y_pred = model.predict([ test_X1 , test_X2 ])\n",
        "y_pred[y_pred<=.5]=0\n",
        "y_pred[y_pred>.5]=1\n",
        "\n",
        "y_pred\n",
        "\n",
        "from sklearn.metrics import confusion_matrix\n",
        "confusion_matrix(test_Y, y_pred)"
      ],
      "execution_count": 0,
      "outputs": []
    },
    {
      "cell_type": "code",
      "metadata": {
        "id": "FbANYrFP2fTz",
        "colab_type": "code",
        "colab": {}
      },
      "source": [
        "\n",
        "from sklearn.metrics import classification_report\n",
        "\n",
        "target_names = ['y=0(Different Class)', 'y=1(Same Class)']\n",
        "print(classification_report(test_Y, y_pred, target_names=target_names))"
      ],
      "execution_count": 0,
      "outputs": []
    },
    {
      "cell_type": "code",
      "metadata": {
        "id": "vzw7Jc9AFiaw",
        "colab_type": "code",
        "colab": {}
      },
      "source": [
        "from sklearn.metrics import precision_recall_curve\n",
        "precision, recall, thresholds = precision_recall_curve(test_Y, y_pred)"
      ],
      "execution_count": 0,
      "outputs": []
    },
    {
      "cell_type": "code",
      "metadata": {
        "id": "1ZTsYBEEHdZZ",
        "colab_type": "code",
        "colab": {}
      },
      "source": [
        "precision"
      ],
      "execution_count": 0,
      "outputs": []
    },
    {
      "cell_type": "code",
      "metadata": {
        "id": "HZW8tG-AHjj5",
        "colab_type": "code",
        "colab": {}
      },
      "source": [
        "recall"
      ],
      "execution_count": 0,
      "outputs": []
    },
    {
      "cell_type": "code",
      "metadata": {
        "id": "rwAEcr92Hn3Y",
        "colab_type": "code",
        "colab": {}
      },
      "source": [
        "thresholds"
      ],
      "execution_count": 0,
      "outputs": []
    },
    {
      "cell_type": "code",
      "metadata": {
        "id": "EdcJwC7BAeM6",
        "colab_type": "code",
        "colab": {}
      },
      "source": [
        "converter = tf.lite.TFLiteConverter.from_keras_model(model) \n",
        "converter.post_training_quantize = True\n",
        "tflite_model = converter.convert()\n",
        "size = open( 'melanoma.tflite' , 'wb' ).write( tflite_model ) \n",
        "print( 'Model size > {} Megabytes'.format( size / 1024**2))"
      ],
      "execution_count": 0,
      "outputs": []
    }
  ]
}